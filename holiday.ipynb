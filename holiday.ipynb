{
 "cells": [
  {
   "cell_type": "code",
   "execution_count": 47,
   "id": "21714282",
   "metadata": {},
   "outputs": [],
   "source": [
    "import numpy as np\n",
    "import pandas as pd\n",
    "import os\n",
    "from pandas.plotting import autocorrelation_plot as auto_corr\n",
    "import matplotlib.pyplot as plt  \n",
    "%matplotlib inline    \n",
    "import matplotlib as mpl\n",
    "import seaborn as sns"
   ]
  },
  {
   "cell_type": "code",
   "execution_count": 48,
   "id": "1d9b3bac",
   "metadata": {},
   "outputs": [],
   "source": [
    "train = pd.read_csv('train.csv')\n",
    "features = pd.read_csv('features.csv')\n",
    "stores = pd.read_csv('stores.csv')\n",
    "test = pd.read_csv('test.csv')"
   ]
  },
  {
   "cell_type": "markdown",
   "id": "49bba5bf",
   "metadata": {},
   "source": [
    "Let's merge datasets"
   ]
  },
  {
   "cell_type": "code",
   "execution_count": 49,
   "id": "ad145dff",
   "metadata": {},
   "outputs": [
    {
     "data": {
      "text/html": [
       "<div>\n",
       "<style scoped>\n",
       "    .dataframe tbody tr th:only-of-type {\n",
       "        vertical-align: middle;\n",
       "    }\n",
       "\n",
       "    .dataframe tbody tr th {\n",
       "        vertical-align: top;\n",
       "    }\n",
       "\n",
       "    .dataframe thead th {\n",
       "        text-align: right;\n",
       "    }\n",
       "</style>\n",
       "<table border=\"1\" class=\"dataframe\">\n",
       "  <thead>\n",
       "    <tr style=\"text-align: right;\">\n",
       "      <th></th>\n",
       "      <th>Store</th>\n",
       "      <th>Dept</th>\n",
       "      <th>Date</th>\n",
       "      <th>Weekly_Sales</th>\n",
       "      <th>IsHoliday_x</th>\n",
       "      <th>Temperature</th>\n",
       "      <th>Fuel_Price</th>\n",
       "      <th>MarkDown1</th>\n",
       "      <th>MarkDown2</th>\n",
       "      <th>MarkDown3</th>\n",
       "      <th>MarkDown4</th>\n",
       "      <th>MarkDown5</th>\n",
       "      <th>CPI</th>\n",
       "      <th>Unemployment</th>\n",
       "      <th>IsHoliday_y</th>\n",
       "      <th>Type</th>\n",
       "      <th>Size</th>\n",
       "    </tr>\n",
       "  </thead>\n",
       "  <tbody>\n",
       "    <tr>\n",
       "      <th>0</th>\n",
       "      <td>1</td>\n",
       "      <td>1</td>\n",
       "      <td>2010-02-05</td>\n",
       "      <td>24924.50</td>\n",
       "      <td>False</td>\n",
       "      <td>42.31</td>\n",
       "      <td>2.572</td>\n",
       "      <td>NaN</td>\n",
       "      <td>NaN</td>\n",
       "      <td>NaN</td>\n",
       "      <td>NaN</td>\n",
       "      <td>NaN</td>\n",
       "      <td>211.096358</td>\n",
       "      <td>8.106</td>\n",
       "      <td>False</td>\n",
       "      <td>A</td>\n",
       "      <td>151315</td>\n",
       "    </tr>\n",
       "    <tr>\n",
       "      <th>1</th>\n",
       "      <td>1</td>\n",
       "      <td>1</td>\n",
       "      <td>2010-02-12</td>\n",
       "      <td>46039.49</td>\n",
       "      <td>True</td>\n",
       "      <td>38.51</td>\n",
       "      <td>2.548</td>\n",
       "      <td>NaN</td>\n",
       "      <td>NaN</td>\n",
       "      <td>NaN</td>\n",
       "      <td>NaN</td>\n",
       "      <td>NaN</td>\n",
       "      <td>211.242170</td>\n",
       "      <td>8.106</td>\n",
       "      <td>True</td>\n",
       "      <td>A</td>\n",
       "      <td>151315</td>\n",
       "    </tr>\n",
       "    <tr>\n",
       "      <th>2</th>\n",
       "      <td>1</td>\n",
       "      <td>1</td>\n",
       "      <td>2010-02-19</td>\n",
       "      <td>41595.55</td>\n",
       "      <td>False</td>\n",
       "      <td>39.93</td>\n",
       "      <td>2.514</td>\n",
       "      <td>NaN</td>\n",
       "      <td>NaN</td>\n",
       "      <td>NaN</td>\n",
       "      <td>NaN</td>\n",
       "      <td>NaN</td>\n",
       "      <td>211.289143</td>\n",
       "      <td>8.106</td>\n",
       "      <td>False</td>\n",
       "      <td>A</td>\n",
       "      <td>151315</td>\n",
       "    </tr>\n",
       "    <tr>\n",
       "      <th>3</th>\n",
       "      <td>1</td>\n",
       "      <td>1</td>\n",
       "      <td>2010-02-26</td>\n",
       "      <td>19403.54</td>\n",
       "      <td>False</td>\n",
       "      <td>46.63</td>\n",
       "      <td>2.561</td>\n",
       "      <td>NaN</td>\n",
       "      <td>NaN</td>\n",
       "      <td>NaN</td>\n",
       "      <td>NaN</td>\n",
       "      <td>NaN</td>\n",
       "      <td>211.319643</td>\n",
       "      <td>8.106</td>\n",
       "      <td>False</td>\n",
       "      <td>A</td>\n",
       "      <td>151315</td>\n",
       "    </tr>\n",
       "    <tr>\n",
       "      <th>4</th>\n",
       "      <td>1</td>\n",
       "      <td>1</td>\n",
       "      <td>2010-03-05</td>\n",
       "      <td>21827.90</td>\n",
       "      <td>False</td>\n",
       "      <td>46.50</td>\n",
       "      <td>2.625</td>\n",
       "      <td>NaN</td>\n",
       "      <td>NaN</td>\n",
       "      <td>NaN</td>\n",
       "      <td>NaN</td>\n",
       "      <td>NaN</td>\n",
       "      <td>211.350143</td>\n",
       "      <td>8.106</td>\n",
       "      <td>False</td>\n",
       "      <td>A</td>\n",
       "      <td>151315</td>\n",
       "    </tr>\n",
       "  </tbody>\n",
       "</table>\n",
       "</div>"
      ],
      "text/plain": [
       "   Store  Dept        Date  Weekly_Sales  IsHoliday_x  Temperature  \\\n",
       "0      1     1  2010-02-05      24924.50        False        42.31   \n",
       "1      1     1  2010-02-12      46039.49         True        38.51   \n",
       "2      1     1  2010-02-19      41595.55        False        39.93   \n",
       "3      1     1  2010-02-26      19403.54        False        46.63   \n",
       "4      1     1  2010-03-05      21827.90        False        46.50   \n",
       "\n",
       "   Fuel_Price  MarkDown1  MarkDown2  MarkDown3  MarkDown4  MarkDown5  \\\n",
       "0       2.572        NaN        NaN        NaN        NaN        NaN   \n",
       "1       2.548        NaN        NaN        NaN        NaN        NaN   \n",
       "2       2.514        NaN        NaN        NaN        NaN        NaN   \n",
       "3       2.561        NaN        NaN        NaN        NaN        NaN   \n",
       "4       2.625        NaN        NaN        NaN        NaN        NaN   \n",
       "\n",
       "          CPI  Unemployment  IsHoliday_y Type    Size  \n",
       "0  211.096358         8.106        False    A  151315  \n",
       "1  211.242170         8.106         True    A  151315  \n",
       "2  211.289143         8.106        False    A  151315  \n",
       "3  211.319643         8.106        False    A  151315  \n",
       "4  211.350143         8.106        False    A  151315  "
      ]
     },
     "execution_count": 49,
     "metadata": {},
     "output_type": "execute_result"
    }
   ],
   "source": [
    "dataset=train.merge(features, on=['Store', 'Date'], how='inner').merge(stores, on=['Store'], how='inner')\n",
    "dataset.head()"
   ]
  },
  {
   "cell_type": "code",
   "execution_count": 50,
   "id": "380db639",
   "metadata": {},
   "outputs": [
    {
     "data": {
      "text/html": [
       "<div>\n",
       "<style scoped>\n",
       "    .dataframe tbody tr th:only-of-type {\n",
       "        vertical-align: middle;\n",
       "    }\n",
       "\n",
       "    .dataframe tbody tr th {\n",
       "        vertical-align: top;\n",
       "    }\n",
       "\n",
       "    .dataframe thead th {\n",
       "        text-align: right;\n",
       "    }\n",
       "</style>\n",
       "<table border=\"1\" class=\"dataframe\">\n",
       "  <thead>\n",
       "    <tr style=\"text-align: right;\">\n",
       "      <th></th>\n",
       "      <th>Store</th>\n",
       "      <th>Dept</th>\n",
       "      <th>Date</th>\n",
       "      <th>Weekly_Sales</th>\n",
       "      <th>IsHoliday</th>\n",
       "      <th>Temperature</th>\n",
       "      <th>Fuel_Price</th>\n",
       "      <th>MarkDown1</th>\n",
       "      <th>MarkDown2</th>\n",
       "      <th>MarkDown3</th>\n",
       "      <th>MarkDown4</th>\n",
       "      <th>MarkDown5</th>\n",
       "      <th>CPI</th>\n",
       "      <th>Unemployment</th>\n",
       "      <th>Type</th>\n",
       "      <th>Size</th>\n",
       "    </tr>\n",
       "  </thead>\n",
       "  <tbody>\n",
       "    <tr>\n",
       "      <th>0</th>\n",
       "      <td>1</td>\n",
       "      <td>1</td>\n",
       "      <td>2010-02-05</td>\n",
       "      <td>24924.50</td>\n",
       "      <td>False</td>\n",
       "      <td>42.31</td>\n",
       "      <td>2.572</td>\n",
       "      <td>NaN</td>\n",
       "      <td>NaN</td>\n",
       "      <td>NaN</td>\n",
       "      <td>NaN</td>\n",
       "      <td>NaN</td>\n",
       "      <td>211.096358</td>\n",
       "      <td>8.106</td>\n",
       "      <td>A</td>\n",
       "      <td>151315</td>\n",
       "    </tr>\n",
       "    <tr>\n",
       "      <th>1</th>\n",
       "      <td>1</td>\n",
       "      <td>1</td>\n",
       "      <td>2010-02-12</td>\n",
       "      <td>46039.49</td>\n",
       "      <td>True</td>\n",
       "      <td>38.51</td>\n",
       "      <td>2.548</td>\n",
       "      <td>NaN</td>\n",
       "      <td>NaN</td>\n",
       "      <td>NaN</td>\n",
       "      <td>NaN</td>\n",
       "      <td>NaN</td>\n",
       "      <td>211.242170</td>\n",
       "      <td>8.106</td>\n",
       "      <td>A</td>\n",
       "      <td>151315</td>\n",
       "    </tr>\n",
       "    <tr>\n",
       "      <th>2</th>\n",
       "      <td>1</td>\n",
       "      <td>1</td>\n",
       "      <td>2010-02-19</td>\n",
       "      <td>41595.55</td>\n",
       "      <td>False</td>\n",
       "      <td>39.93</td>\n",
       "      <td>2.514</td>\n",
       "      <td>NaN</td>\n",
       "      <td>NaN</td>\n",
       "      <td>NaN</td>\n",
       "      <td>NaN</td>\n",
       "      <td>NaN</td>\n",
       "      <td>211.289143</td>\n",
       "      <td>8.106</td>\n",
       "      <td>A</td>\n",
       "      <td>151315</td>\n",
       "    </tr>\n",
       "    <tr>\n",
       "      <th>3</th>\n",
       "      <td>1</td>\n",
       "      <td>1</td>\n",
       "      <td>2010-02-26</td>\n",
       "      <td>19403.54</td>\n",
       "      <td>False</td>\n",
       "      <td>46.63</td>\n",
       "      <td>2.561</td>\n",
       "      <td>NaN</td>\n",
       "      <td>NaN</td>\n",
       "      <td>NaN</td>\n",
       "      <td>NaN</td>\n",
       "      <td>NaN</td>\n",
       "      <td>211.319643</td>\n",
       "      <td>8.106</td>\n",
       "      <td>A</td>\n",
       "      <td>151315</td>\n",
       "    </tr>\n",
       "    <tr>\n",
       "      <th>4</th>\n",
       "      <td>1</td>\n",
       "      <td>1</td>\n",
       "      <td>2010-03-05</td>\n",
       "      <td>21827.90</td>\n",
       "      <td>False</td>\n",
       "      <td>46.50</td>\n",
       "      <td>2.625</td>\n",
       "      <td>NaN</td>\n",
       "      <td>NaN</td>\n",
       "      <td>NaN</td>\n",
       "      <td>NaN</td>\n",
       "      <td>NaN</td>\n",
       "      <td>211.350143</td>\n",
       "      <td>8.106</td>\n",
       "      <td>A</td>\n",
       "      <td>151315</td>\n",
       "    </tr>\n",
       "  </tbody>\n",
       "</table>\n",
       "</div>"
      ],
      "text/plain": [
       "   Store  Dept        Date  Weekly_Sales  IsHoliday  Temperature  Fuel_Price  \\\n",
       "0      1     1  2010-02-05      24924.50      False        42.31       2.572   \n",
       "1      1     1  2010-02-12      46039.49       True        38.51       2.548   \n",
       "2      1     1  2010-02-19      41595.55      False        39.93       2.514   \n",
       "3      1     1  2010-02-26      19403.54      False        46.63       2.561   \n",
       "4      1     1  2010-03-05      21827.90      False        46.50       2.625   \n",
       "\n",
       "   MarkDown1  MarkDown2  MarkDown3  MarkDown4  MarkDown5         CPI  \\\n",
       "0        NaN        NaN        NaN        NaN        NaN  211.096358   \n",
       "1        NaN        NaN        NaN        NaN        NaN  211.242170   \n",
       "2        NaN        NaN        NaN        NaN        NaN  211.289143   \n",
       "3        NaN        NaN        NaN        NaN        NaN  211.319643   \n",
       "4        NaN        NaN        NaN        NaN        NaN  211.350143   \n",
       "\n",
       "   Unemployment Type    Size  \n",
       "0         8.106    A  151315  \n",
       "1         8.106    A  151315  \n",
       "2         8.106    A  151315  \n",
       "3         8.106    A  151315  \n",
       "4         8.106    A  151315  "
      ]
     },
     "execution_count": 50,
     "metadata": {},
     "output_type": "execute_result"
    }
   ],
   "source": [
    "dataset.drop(['IsHoliday_y'], axis=1,inplace=True)\n",
    "dataset.rename(columns={'IsHoliday_x':'IsHoliday'},inplace=True) \n",
    "dataset.head()"
   ]
  },
  {
   "cell_type": "code",
   "execution_count": 51,
   "id": "64dbdd8b",
   "metadata": {},
   "outputs": [
    {
     "name": "stdout",
     "output_type": "stream",
     "text": [
      "45\n",
      "81\n"
     ]
    }
   ],
   "source": [
    "print(dataset['Store'].nunique())\n",
    "print(dataset['Dept'].nunique())"
   ]
  },
  {
   "cell_type": "markdown",
   "id": "3b97d734",
   "metadata": {},
   "source": [
    "FROM CODE.IPYNB we could see:\n",
    "Store numbers: 1 to 45\n",
    "Department numbers: 1 to 99 (some numbers missing: 88 or 89 etc.) \n",
    "Total number of departments is 81.\n",
    "\n",
    "There are some wrong values: 0 and minus values for weekly sales.\n",
    "Sales amount can not be minus. \n",
    "Not possible for one department not to sell anything whole week. \n",
    "Let's fix these values."
   ]
  },
  {
   "cell_type": "code",
   "execution_count": 52,
   "id": "9f5bb894",
   "metadata": {},
   "outputs": [
    {
     "data": {
      "text/html": [
       "<div>\n",
       "<style scoped>\n",
       "    .dataframe tbody tr th:only-of-type {\n",
       "        vertical-align: middle;\n",
       "    }\n",
       "\n",
       "    .dataframe tbody tr th {\n",
       "        vertical-align: top;\n",
       "    }\n",
       "\n",
       "    .dataframe thead th {\n",
       "        text-align: right;\n",
       "    }\n",
       "</style>\n",
       "<table border=\"1\" class=\"dataframe\">\n",
       "  <thead>\n",
       "    <tr style=\"text-align: right;\">\n",
       "      <th></th>\n",
       "      <th>Store</th>\n",
       "      <th>Dept</th>\n",
       "      <th>Date</th>\n",
       "      <th>Weekly_Sales</th>\n",
       "      <th>IsHoliday</th>\n",
       "      <th>Temperature</th>\n",
       "      <th>Fuel_Price</th>\n",
       "      <th>MarkDown1</th>\n",
       "      <th>MarkDown2</th>\n",
       "      <th>MarkDown3</th>\n",
       "      <th>MarkDown4</th>\n",
       "      <th>MarkDown5</th>\n",
       "      <th>CPI</th>\n",
       "      <th>Unemployment</th>\n",
       "      <th>Type</th>\n",
       "      <th>Size</th>\n",
       "    </tr>\n",
       "  </thead>\n",
       "  <tbody>\n",
       "    <tr>\n",
       "      <th>846</th>\n",
       "      <td>1</td>\n",
       "      <td>6</td>\n",
       "      <td>2012-08-10</td>\n",
       "      <td>-139.65</td>\n",
       "      <td>False</td>\n",
       "      <td>85.05</td>\n",
       "      <td>3.494</td>\n",
       "      <td>11436.22</td>\n",
       "      <td>245.0</td>\n",
       "      <td>6.85</td>\n",
       "      <td>6964.26</td>\n",
       "      <td>4836.22</td>\n",
       "      <td>221.958433</td>\n",
       "      <td>6.908</td>\n",
       "      <td>A</td>\n",
       "      <td>151315</td>\n",
       "    </tr>\n",
       "    <tr>\n",
       "      <th>2384</th>\n",
       "      <td>1</td>\n",
       "      <td>18</td>\n",
       "      <td>2012-05-04</td>\n",
       "      <td>-1.27</td>\n",
       "      <td>False</td>\n",
       "      <td>75.55</td>\n",
       "      <td>3.749</td>\n",
       "      <td>21290.13</td>\n",
       "      <td>NaN</td>\n",
       "      <td>69.89</td>\n",
       "      <td>4977.35</td>\n",
       "      <td>3261.04</td>\n",
       "      <td>221.671800</td>\n",
       "      <td>7.143</td>\n",
       "      <td>A</td>\n",
       "      <td>151315</td>\n",
       "    </tr>\n",
       "    <tr>\n",
       "      <th>6048</th>\n",
       "      <td>1</td>\n",
       "      <td>47</td>\n",
       "      <td>2010-02-19</td>\n",
       "      <td>-863.00</td>\n",
       "      <td>False</td>\n",
       "      <td>39.93</td>\n",
       "      <td>2.514</td>\n",
       "      <td>NaN</td>\n",
       "      <td>NaN</td>\n",
       "      <td>NaN</td>\n",
       "      <td>NaN</td>\n",
       "      <td>NaN</td>\n",
       "      <td>211.289143</td>\n",
       "      <td>8.106</td>\n",
       "      <td>A</td>\n",
       "      <td>151315</td>\n",
       "    </tr>\n",
       "    <tr>\n",
       "      <th>6049</th>\n",
       "      <td>1</td>\n",
       "      <td>47</td>\n",
       "      <td>2010-03-12</td>\n",
       "      <td>-698.00</td>\n",
       "      <td>False</td>\n",
       "      <td>57.79</td>\n",
       "      <td>2.667</td>\n",
       "      <td>NaN</td>\n",
       "      <td>NaN</td>\n",
       "      <td>NaN</td>\n",
       "      <td>NaN</td>\n",
       "      <td>NaN</td>\n",
       "      <td>211.380643</td>\n",
       "      <td>8.106</td>\n",
       "      <td>A</td>\n",
       "      <td>151315</td>\n",
       "    </tr>\n",
       "    <tr>\n",
       "      <th>6051</th>\n",
       "      <td>1</td>\n",
       "      <td>47</td>\n",
       "      <td>2010-10-08</td>\n",
       "      <td>-58.00</td>\n",
       "      <td>False</td>\n",
       "      <td>63.93</td>\n",
       "      <td>2.633</td>\n",
       "      <td>NaN</td>\n",
       "      <td>NaN</td>\n",
       "      <td>NaN</td>\n",
       "      <td>NaN</td>\n",
       "      <td>NaN</td>\n",
       "      <td>211.746754</td>\n",
       "      <td>7.838</td>\n",
       "      <td>A</td>\n",
       "      <td>151315</td>\n",
       "    </tr>\n",
       "    <tr>\n",
       "      <th>...</th>\n",
       "      <td>...</td>\n",
       "      <td>...</td>\n",
       "      <td>...</td>\n",
       "      <td>...</td>\n",
       "      <td>...</td>\n",
       "      <td>...</td>\n",
       "      <td>...</td>\n",
       "      <td>...</td>\n",
       "      <td>...</td>\n",
       "      <td>...</td>\n",
       "      <td>...</td>\n",
       "      <td>...</td>\n",
       "      <td>...</td>\n",
       "      <td>...</td>\n",
       "      <td>...</td>\n",
       "      <td>...</td>\n",
       "    </tr>\n",
       "    <tr>\n",
       "      <th>419597</th>\n",
       "      <td>45</td>\n",
       "      <td>80</td>\n",
       "      <td>2010-02-12</td>\n",
       "      <td>-0.43</td>\n",
       "      <td>True</td>\n",
       "      <td>27.73</td>\n",
       "      <td>2.773</td>\n",
       "      <td>NaN</td>\n",
       "      <td>NaN</td>\n",
       "      <td>NaN</td>\n",
       "      <td>NaN</td>\n",
       "      <td>NaN</td>\n",
       "      <td>181.982317</td>\n",
       "      <td>8.992</td>\n",
       "      <td>B</td>\n",
       "      <td>118221</td>\n",
       "    </tr>\n",
       "    <tr>\n",
       "      <th>419598</th>\n",
       "      <td>45</td>\n",
       "      <td>80</td>\n",
       "      <td>2010-02-19</td>\n",
       "      <td>-0.27</td>\n",
       "      <td>False</td>\n",
       "      <td>31.27</td>\n",
       "      <td>2.745</td>\n",
       "      <td>NaN</td>\n",
       "      <td>NaN</td>\n",
       "      <td>NaN</td>\n",
       "      <td>NaN</td>\n",
       "      <td>NaN</td>\n",
       "      <td>182.034782</td>\n",
       "      <td>8.992</td>\n",
       "      <td>B</td>\n",
       "      <td>118221</td>\n",
       "    </tr>\n",
       "    <tr>\n",
       "      <th>419603</th>\n",
       "      <td>45</td>\n",
       "      <td>80</td>\n",
       "      <td>2010-04-16</td>\n",
       "      <td>-1.61</td>\n",
       "      <td>False</td>\n",
       "      <td>54.28</td>\n",
       "      <td>2.899</td>\n",
       "      <td>NaN</td>\n",
       "      <td>NaN</td>\n",
       "      <td>NaN</td>\n",
       "      <td>NaN</td>\n",
       "      <td>NaN</td>\n",
       "      <td>181.692477</td>\n",
       "      <td>8.899</td>\n",
       "      <td>B</td>\n",
       "      <td>118221</td>\n",
       "    </tr>\n",
       "    <tr>\n",
       "      <th>419614</th>\n",
       "      <td>45</td>\n",
       "      <td>80</td>\n",
       "      <td>2010-07-02</td>\n",
       "      <td>-0.27</td>\n",
       "      <td>False</td>\n",
       "      <td>76.61</td>\n",
       "      <td>2.815</td>\n",
       "      <td>NaN</td>\n",
       "      <td>NaN</td>\n",
       "      <td>NaN</td>\n",
       "      <td>NaN</td>\n",
       "      <td>NaN</td>\n",
       "      <td>182.318780</td>\n",
       "      <td>8.743</td>\n",
       "      <td>B</td>\n",
       "      <td>118221</td>\n",
       "    </tr>\n",
       "    <tr>\n",
       "      <th>419640</th>\n",
       "      <td>45</td>\n",
       "      <td>80</td>\n",
       "      <td>2011-02-11</td>\n",
       "      <td>-0.24</td>\n",
       "      <td>True</td>\n",
       "      <td>30.30</td>\n",
       "      <td>3.239</td>\n",
       "      <td>NaN</td>\n",
       "      <td>NaN</td>\n",
       "      <td>NaN</td>\n",
       "      <td>NaN</td>\n",
       "      <td>NaN</td>\n",
       "      <td>183.701613</td>\n",
       "      <td>8.549</td>\n",
       "      <td>B</td>\n",
       "      <td>118221</td>\n",
       "    </tr>\n",
       "  </tbody>\n",
       "</table>\n",
       "<p>1358 rows × 16 columns</p>\n",
       "</div>"
      ],
      "text/plain": [
       "        Store  Dept        Date  Weekly_Sales  IsHoliday  Temperature  \\\n",
       "846         1     6  2012-08-10       -139.65      False        85.05   \n",
       "2384        1    18  2012-05-04         -1.27      False        75.55   \n",
       "6048        1    47  2010-02-19       -863.00      False        39.93   \n",
       "6049        1    47  2010-03-12       -698.00      False        57.79   \n",
       "6051        1    47  2010-10-08        -58.00      False        63.93   \n",
       "...       ...   ...         ...           ...        ...          ...   \n",
       "419597     45    80  2010-02-12         -0.43       True        27.73   \n",
       "419598     45    80  2010-02-19         -0.27      False        31.27   \n",
       "419603     45    80  2010-04-16         -1.61      False        54.28   \n",
       "419614     45    80  2010-07-02         -0.27      False        76.61   \n",
       "419640     45    80  2011-02-11         -0.24       True        30.30   \n",
       "\n",
       "        Fuel_Price  MarkDown1  MarkDown2  MarkDown3  MarkDown4  MarkDown5  \\\n",
       "846          3.494   11436.22      245.0       6.85    6964.26    4836.22   \n",
       "2384         3.749   21290.13        NaN      69.89    4977.35    3261.04   \n",
       "6048         2.514        NaN        NaN        NaN        NaN        NaN   \n",
       "6049         2.667        NaN        NaN        NaN        NaN        NaN   \n",
       "6051         2.633        NaN        NaN        NaN        NaN        NaN   \n",
       "...            ...        ...        ...        ...        ...        ...   \n",
       "419597       2.773        NaN        NaN        NaN        NaN        NaN   \n",
       "419598       2.745        NaN        NaN        NaN        NaN        NaN   \n",
       "419603       2.899        NaN        NaN        NaN        NaN        NaN   \n",
       "419614       2.815        NaN        NaN        NaN        NaN        NaN   \n",
       "419640       3.239        NaN        NaN        NaN        NaN        NaN   \n",
       "\n",
       "               CPI  Unemployment Type    Size  \n",
       "846     221.958433         6.908    A  151315  \n",
       "2384    221.671800         7.143    A  151315  \n",
       "6048    211.289143         8.106    A  151315  \n",
       "6049    211.380643         8.106    A  151315  \n",
       "6051    211.746754         7.838    A  151315  \n",
       "...            ...           ...  ...     ...  \n",
       "419597  181.982317         8.992    B  118221  \n",
       "419598  182.034782         8.992    B  118221  \n",
       "419603  181.692477         8.899    B  118221  \n",
       "419614  182.318780         8.743    B  118221  \n",
       "419640  183.701613         8.549    B  118221  \n",
       "\n",
       "[1358 rows x 16 columns]"
      ]
     },
     "execution_count": 52,
     "metadata": {},
     "output_type": "execute_result"
    }
   ],
   "source": [
    "dataset.loc[dataset['Weekly_Sales']<=0]"
   ]
  },
  {
   "cell_type": "markdown",
   "id": "e38cdf2e",
   "metadata": {},
   "source": [
    "1358 rows in 421570 rows means 0.3%.\n",
    "Delete and ignore these rows which contains wrong sales values."
   ]
  },
  {
   "cell_type": "code",
   "execution_count": 53,
   "id": "5c88d2ff",
   "metadata": {},
   "outputs": [
    {
     "data": {
      "text/plain": [
       "(420212, 16)"
      ]
     },
     "execution_count": 53,
     "metadata": {},
     "output_type": "execute_result"
    }
   ],
   "source": [
    "dataset = dataset.loc[dataset['Weekly_Sales'] > 0]\n",
    "dataset.shape "
   ]
  },
  {
   "cell_type": "code",
   "execution_count": 54,
   "id": "9be5c22d",
   "metadata": {},
   "outputs": [
    {
     "name": "stderr",
     "output_type": "stream",
     "text": [
      "C:\\Users\\Chirag\\AppData\\Local\\Temp\\ipykernel_23916\\2483616707.py:1: FutureWarning: \n",
      "\n",
      "Passing `palette` without assigning `hue` is deprecated and will be removed in v0.14.0. Assign the `x` variable to `hue` and set `legend=False` for the same effect.\n",
      "\n",
      "  sns.barplot(\n"
     ]
    },
    {
     "data": {
      "text/plain": [
       "<Axes: xlabel='IsHoliday', ylabel='Weekly_Sales'>"
      ]
     },
     "execution_count": 54,
     "metadata": {},
     "output_type": "execute_result"
    },
    {
     "data": {
      "image/png": "[encoded data removed]",
      "text/plain": [
       "<Figure size 640x480 with 1 Axes>"
      ]
     },
     "metadata": {},
     "output_type": "display_data"
    }
   ],
   "source": [
    "sns.barplot(\n",
    "    x='IsHoliday',\n",
    "    y='Weekly_Sales',\n",
    "    data=dataset,\n",
    "    palette='Set2'  # or 'pastel', 'Set1', 'coolwarm', etc.\n",
    ")\n"
   ]
  },
  {
   "cell_type": "code",
   "execution_count": 55,
   "id": "a774ac03",
   "metadata": {},
   "outputs": [
    {
     "data": {
      "text/plain": [
       "array(['2010-02-12', '2010-09-10', '2010-11-26', '2010-12-31',\n",
       "       '2011-02-11', '2011-09-09', '2011-11-25', '2011-12-30',\n",
       "       '2012-02-10', '2012-09-07'], dtype=object)"
      ]
     },
     "execution_count": 55,
     "metadata": {},
     "output_type": "execute_result"
    }
   ],
   "source": [
    "df_holiday = dataset.loc[dataset['IsHoliday']==True]\n",
    "df_holiday['Date'].unique()"
   ]
  },
  {
   "cell_type": "code",
   "execution_count": 56,
   "id": "ccc3ca45",
   "metadata": {},
   "outputs": [
    {
     "data": {
      "text/plain": [
       "133"
      ]
     },
     "execution_count": 56,
     "metadata": {},
     "output_type": "execute_result"
    }
   ],
   "source": [
    "df_not_holiday = dataset.loc[dataset['IsHoliday']==False]\n",
    "df_not_holiday['Date'].nunique() "
   ]
  },
  {
   "cell_type": "markdown",
   "id": "85be65a1",
   "metadata": {},
   "source": [
    "1) Average weekly sales for holidays are significantly higher than not-holiday days. \n",
    "2) In train data, there are 133 weeks for non-holiday and 10 weeks for holiday."
   ]
  },
  {
   "cell_type": "code",
   "execution_count": 57,
   "id": "2fab7fe1",
   "metadata": {},
   "outputs": [],
   "source": [
    "# Christmas and New Year's Eve\n",
    "dataset.loc[dataset['Date'].isin(['2010-12-31', '2011-12-30', '2012-12-28']), 'Christmas'] = True\n",
    "dataset.loc[~dataset['Date'].isin(['2010-12-31', '2011-12-30', '2012-12-28']), 'Christmas'] = False\n",
    "\n",
    "# Thanksgiving\n",
    "dataset.loc[dataset['Date'].isin(['2010-11-26', '2011-11-25', '2012-11-23']), 'Thanksgiving'] = True\n",
    "dataset.loc[~dataset['Date'].isin(['2010-11-26', '2011-11-25', '2012-11-23']), 'Thanksgiving'] = False\n",
    "\n",
    "# Super Bowl (Feb 6, 2011; Feb 5, 2012; Feb 3, 2013 — use preceding Friday)\n",
    "dataset.loc[dataset['Date'].isin(['2010-02-12', '2011-02-11', '2012-02-10']), 'SuperBowl'] = True\n",
    "dataset.loc[~dataset['Date'].isin(['2010-02-12', '2011-02-11', '2012-02-10']), 'SuperBowl'] = False\n",
    "\n",
    "# Labor Day (1st Monday of Sept → Friday before)\n",
    "dataset.loc[dataset['Date'].isin(['2010-09-10', '2011-09-09', '2012-09-07']), 'LaborDay'] = True\n",
    "dataset.loc[~dataset['Date'].isin(['2010-09-10', '2011-09-09', '2012-09-07']), 'LaborDay'] = False\n",
    "\n",
    "# Easter (Good Friday: Apr 2, 2010; Apr 22, 2011; Apr 6, 2012)\n",
    "dataset.loc[dataset['Date'].isin(['2010-04-02', '2011-04-22', '2012-04-06']), 'Easter'] = True\n",
    "dataset.loc[~dataset['Date'].isin(['2010-04-02', '2011-04-22', '2012-04-06']), 'Easter'] = False\n",
    "\n",
    "# Halloween (Oct 31 → use Friday of that week)\n",
    "dataset.loc[dataset['Date'].isin(['2010-10-29', '2011-10-28', '2012-10-26']), 'Halloween'] = True\n",
    "dataset.loc[~dataset['Date'].isin(['2010-10-29', '2011-10-28', '2012-10-26']), 'Halloween'] = False\n",
    "\n",
    "# Independence Day (July 4 → Friday of that week)\n",
    "dataset.loc[dataset['Date'].isin(['2010-07-02', '2011-07-01', '2012-07-06']), 'IndependenceDay'] = True\n",
    "dataset.loc[~dataset['Date'].isin(['2010-07-02', '2011-07-01', '2012-07-06']), 'IndependenceDay'] = False\n",
    "\n",
    "# Back to School (early August weeks)\n",
    "dataset.loc[dataset['Date'].isin(['2010-08-06', '2010-08-13', '2011-08-05', '2011-08-12', '2012-08-03', '2012-08-10']), 'BackToSchool'] = True\n",
    "dataset.loc[~dataset['Date'].isin(['2010-08-06', '2010-08-13', '2011-08-05', '2011-08-12', '2012-08-03', '2012-08-10']), 'BackToSchool'] = False\n"
   ]
  },
  {
   "cell_type": "code",
   "execution_count": 58,
   "id": "cf7b606b",
   "metadata": {},
   "outputs": [
    {
     "data": {
      "text/html": [
       "<div>\n",
       "<style scoped>\n",
       "    .dataframe tbody tr th:only-of-type {\n",
       "        vertical-align: middle;\n",
       "    }\n",
       "\n",
       "    .dataframe tbody tr th {\n",
       "        vertical-align: top;\n",
       "    }\n",
       "\n",
       "    .dataframe thead th {\n",
       "        text-align: right;\n",
       "    }\n",
       "</style>\n",
       "<table border=\"1\" class=\"dataframe\">\n",
       "  <thead>\n",
       "    <tr style=\"text-align: right;\">\n",
       "      <th></th>\n",
       "      <th>Store</th>\n",
       "      <th>Dept</th>\n",
       "      <th>Date</th>\n",
       "      <th>Weekly_Sales</th>\n",
       "      <th>IsHoliday</th>\n",
       "      <th>Temperature</th>\n",
       "      <th>Fuel_Price</th>\n",
       "      <th>MarkDown1</th>\n",
       "      <th>MarkDown2</th>\n",
       "      <th>MarkDown3</th>\n",
       "      <th>...</th>\n",
       "      <th>Type</th>\n",
       "      <th>Size</th>\n",
       "      <th>Christmas</th>\n",
       "      <th>Thanksgiving</th>\n",
       "      <th>SuperBowl</th>\n",
       "      <th>LaborDay</th>\n",
       "      <th>Easter</th>\n",
       "      <th>Halloween</th>\n",
       "      <th>IndependenceDay</th>\n",
       "      <th>BackToSchool</th>\n",
       "    </tr>\n",
       "  </thead>\n",
       "  <tbody>\n",
       "    <tr>\n",
       "      <th>0</th>\n",
       "      <td>1</td>\n",
       "      <td>1</td>\n",
       "      <td>2010-02-05</td>\n",
       "      <td>24924.50</td>\n",
       "      <td>False</td>\n",
       "      <td>42.31</td>\n",
       "      <td>2.572</td>\n",
       "      <td>NaN</td>\n",
       "      <td>NaN</td>\n",
       "      <td>NaN</td>\n",
       "      <td>...</td>\n",
       "      <td>A</td>\n",
       "      <td>151315</td>\n",
       "      <td>False</td>\n",
       "      <td>False</td>\n",
       "      <td>False</td>\n",
       "      <td>False</td>\n",
       "      <td>False</td>\n",
       "      <td>False</td>\n",
       "      <td>False</td>\n",
       "      <td>False</td>\n",
       "    </tr>\n",
       "    <tr>\n",
       "      <th>1</th>\n",
       "      <td>1</td>\n",
       "      <td>1</td>\n",
       "      <td>2010-02-12</td>\n",
       "      <td>46039.49</td>\n",
       "      <td>True</td>\n",
       "      <td>38.51</td>\n",
       "      <td>2.548</td>\n",
       "      <td>NaN</td>\n",
       "      <td>NaN</td>\n",
       "      <td>NaN</td>\n",
       "      <td>...</td>\n",
       "      <td>A</td>\n",
       "      <td>151315</td>\n",
       "      <td>False</td>\n",
       "      <td>False</td>\n",
       "      <td>True</td>\n",
       "      <td>False</td>\n",
       "      <td>False</td>\n",
       "      <td>False</td>\n",
       "      <td>False</td>\n",
       "      <td>False</td>\n",
       "    </tr>\n",
       "    <tr>\n",
       "      <th>2</th>\n",
       "      <td>1</td>\n",
       "      <td>1</td>\n",
       "      <td>2010-02-19</td>\n",
       "      <td>41595.55</td>\n",
       "      <td>False</td>\n",
       "      <td>39.93</td>\n",
       "      <td>2.514</td>\n",
       "      <td>NaN</td>\n",
       "      <td>NaN</td>\n",
       "      <td>NaN</td>\n",
       "      <td>...</td>\n",
       "      <td>A</td>\n",
       "      <td>151315</td>\n",
       "      <td>False</td>\n",
       "      <td>False</td>\n",
       "      <td>False</td>\n",
       "      <td>False</td>\n",
       "      <td>False</td>\n",
       "      <td>False</td>\n",
       "      <td>False</td>\n",
       "      <td>False</td>\n",
       "    </tr>\n",
       "    <tr>\n",
       "      <th>3</th>\n",
       "      <td>1</td>\n",
       "      <td>1</td>\n",
       "      <td>2010-02-26</td>\n",
       "      <td>19403.54</td>\n",
       "      <td>False</td>\n",
       "      <td>46.63</td>\n",
       "      <td>2.561</td>\n",
       "      <td>NaN</td>\n",
       "      <td>NaN</td>\n",
       "      <td>NaN</td>\n",
       "      <td>...</td>\n",
       "      <td>A</td>\n",
       "      <td>151315</td>\n",
       "      <td>False</td>\n",
       "      <td>False</td>\n",
       "      <td>False</td>\n",
       "      <td>False</td>\n",
       "      <td>False</td>\n",
       "      <td>False</td>\n",
       "      <td>False</td>\n",
       "      <td>False</td>\n",
       "    </tr>\n",
       "    <tr>\n",
       "      <th>4</th>\n",
       "      <td>1</td>\n",
       "      <td>1</td>\n",
       "      <td>2010-03-05</td>\n",
       "      <td>21827.90</td>\n",
       "      <td>False</td>\n",
       "      <td>46.50</td>\n",
       "      <td>2.625</td>\n",
       "      <td>NaN</td>\n",
       "      <td>NaN</td>\n",
       "      <td>NaN</td>\n",
       "      <td>...</td>\n",
       "      <td>A</td>\n",
       "      <td>151315</td>\n",
       "      <td>False</td>\n",
       "      <td>False</td>\n",
       "      <td>False</td>\n",
       "      <td>False</td>\n",
       "      <td>False</td>\n",
       "      <td>False</td>\n",
       "      <td>False</td>\n",
       "      <td>False</td>\n",
       "    </tr>\n",
       "  </tbody>\n",
       "</table>\n",
       "<p>5 rows × 24 columns</p>\n",
       "</div>"
      ],
      "text/plain": [
       "   Store  Dept        Date  Weekly_Sales  IsHoliday  Temperature  Fuel_Price  \\\n",
       "0      1     1  2010-02-05      24924.50      False        42.31       2.572   \n",
       "1      1     1  2010-02-12      46039.49       True        38.51       2.548   \n",
       "2      1     1  2010-02-19      41595.55      False        39.93       2.514   \n",
       "3      1     1  2010-02-26      19403.54      False        46.63       2.561   \n",
       "4      1     1  2010-03-05      21827.90      False        46.50       2.625   \n",
       "\n",
       "   MarkDown1  MarkDown2  MarkDown3  ...  Type    Size  Christmas  \\\n",
       "0        NaN        NaN        NaN  ...     A  151315      False   \n",
       "1        NaN        NaN        NaN  ...     A  151315      False   \n",
       "2        NaN        NaN        NaN  ...     A  151315      False   \n",
       "3        NaN        NaN        NaN  ...     A  151315      False   \n",
       "4        NaN        NaN        NaN  ...     A  151315      False   \n",
       "\n",
       "   Thanksgiving SuperBowl  LaborDay Easter Halloween IndependenceDay  \\\n",
       "0         False     False     False  False     False           False   \n",
       "1         False      True     False  False     False           False   \n",
       "2         False     False     False  False     False           False   \n",
       "3         False     False     False  False     False           False   \n",
       "4         False     False     False  False     False           False   \n",
       "\n",
       "  BackToSchool  \n",
       "0        False  \n",
       "1        False  \n",
       "2        False  \n",
       "3        False  \n",
       "4        False  \n",
       "\n",
       "[5 rows x 24 columns]"
      ]
     },
     "execution_count": 58,
     "metadata": {},
     "output_type": "execute_result"
    }
   ],
   "source": [
    "dataset.head()"
   ]
  },
  {
   "cell_type": "code",
   "execution_count": 59,
   "id": "bf9c4573",
   "metadata": {},
   "outputs": [
    {
     "name": "stdout",
     "output_type": "stream",
     "text": [
      "Christmas:\n",
      "Christmas  Type\n",
      "False      A       20174.350209\n",
      "           B       12301.986116\n",
      "           C        9570.951973\n",
      "True       A       18310.167535\n",
      "           B       11488.988057\n",
      "           C        8031.520607\n",
      "Name: Weekly_Sales, dtype: float64 \n",
      "\n",
      "Thanksgiving:\n",
      "Thanksgiving  Type\n",
      "False         A       20044.007801\n",
      "              B       12197.717405\n",
      "              C        9547.377807\n",
      "True          A       27397.776346\n",
      "              B       18733.973971\n",
      "              C        9696.566616\n",
      "Name: Weekly_Sales, dtype: float64 \n",
      "\n"
     ]
    }
   ],
   "source": [
    "# Christmas\n",
    "print(\"Christmas:\")\n",
    "print(dataset.groupby(['Christmas', 'Type'])['Weekly_Sales'].mean(), '\\n')\n",
    "\n",
    "# Thanksgiving\n",
    "print(\"Thanksgiving:\")\n",
    "print(dataset.groupby(['Thanksgiving', 'Type'])['Weekly_Sales'].mean(), '\\n')\n",
    "\n"
   ]
  },
  {
   "cell_type": "code",
   "execution_count": 60,
   "id": "37f2146c",
   "metadata": {},
   "outputs": [
    {
     "name": "stdout",
     "output_type": "stream",
     "text": [
      "Super Bowl:\n",
      "SuperBowl  Type\n",
      "False      A       20138.055908\n",
      "           B       12286.739293\n",
      "           C        9536.110508\n",
      "True       A       20612.757674\n",
      "           B       12467.035506\n",
      "           C       10179.271884\n",
      "Name: Weekly_Sales, dtype: float64 \n",
      "\n",
      "Labor Day:\n",
      "LaborDay  Type\n",
      "False     A       20151.210941\n",
      "          B       12294.954138\n",
      "          C        9542.098293\n",
      "True      A       20004.267422\n",
      "          B       12084.304642\n",
      "          C        9893.459258\n",
      "Name: Weekly_Sales, dtype: float64 \n",
      "\n"
     ]
    }
   ],
   "source": [
    "\n",
    "# Super Bowl\n",
    "print(\"Super Bowl:\")\n",
    "print(dataset.groupby(['SuperBowl', 'Type'])['Weekly_Sales'].mean(), '\\n')\n",
    "\n",
    "# Labor Day\n",
    "print(\"Labor Day:\")\n",
    "print(dataset.groupby(['LaborDay', 'Type'])['Weekly_Sales'].mean(), '\\n')\n"
   ]
  },
  {
   "cell_type": "code",
   "execution_count": 61,
   "id": "1ef6a6c3",
   "metadata": {},
   "outputs": [
    {
     "name": "stdout",
     "output_type": "stream",
     "text": [
      "Easter:\n",
      "Easter  Type\n",
      "False   A       20113.363216\n",
      "        B       12271.307975\n",
      "        C        9546.313948\n",
      "True    A       21761.742889\n",
      "        B       13183.964464\n",
      "        C        9693.984286\n",
      "Name: Weekly_Sales, dtype: float64 \n",
      "\n",
      "Halloween:\n",
      "Halloween  Type\n",
      "False      A       20168.192806\n",
      "           B       12302.961491\n",
      "           C        9556.628353\n",
      "True       A       19209.406365\n",
      "           B       11715.081402\n",
      "           C        9215.862595\n",
      "Name: Weekly_Sales, dtype: float64 \n",
      "\n"
     ]
    }
   ],
   "source": [
    "# Easter\n",
    "print(\"Easter:\")\n",
    "print(dataset.groupby(['Easter', 'Type'])['Weekly_Sales'].mean(), '\\n')\n",
    "\n",
    "# Halloween\n",
    "print(\"Halloween:\")\n",
    "print(dataset.groupby(['Halloween', 'Type'])['Weekly_Sales'].mean(), '\\n')\n",
    "\n"
   ]
  },
  {
   "cell_type": "code",
   "execution_count": 62,
   "id": "8e382c63",
   "metadata": {},
   "outputs": [
    {
     "name": "stdout",
     "output_type": "stream",
     "text": [
      "Independence Day:\n",
      "IndependenceDay  Type\n",
      "False            A       20126.174161\n",
      "                 B       12275.235561\n",
      "                 C        9548.870991\n",
      "True             A       21176.743389\n",
      "                 B       13010.163945\n",
      "                 C        9576.509431\n",
      "Name: Weekly_Sales, dtype: float64 \n",
      "\n",
      "Back to School:\n",
      "BackToSchool  Type\n",
      "False         A       20133.901717\n",
      "              B       12292.615195\n",
      "              C        9544.260318\n",
      "True          A       20474.465056\n",
      "              B       12242.976601\n",
      "              C        9667.611365\n",
      "Name: Weekly_Sales, dtype: float64 \n",
      "\n"
     ]
    }
   ],
   "source": [
    "\n",
    "# Independence Day\n",
    "print(\"Independence Day:\")\n",
    "print(dataset.groupby(['IndependenceDay', 'Type'])['Weekly_Sales'].mean(), '\\n')\n",
    "\n",
    "# Back to School\n",
    "print(\"Back to School:\")\n",
    "print(dataset.groupby(['BackToSchool', 'Type'])['Weekly_Sales'].mean(), '\\n')\n",
    "\n"
   ]
  },
  {
   "cell_type": "code",
   "execution_count": 63,
   "id": "ab2c0766",
   "metadata": {},
   "outputs": [
    {
     "data": {
      "text/plain": [
       "IsHoliday\n",
       "False    15952.816352\n",
       "True     17094.300918\n",
       "Name: Weekly_Sales, dtype: float64"
      ]
     },
     "execution_count": 63,
     "metadata": {},
     "output_type": "execute_result"
    }
   ],
   "source": [
    "dataset.groupby('IsHoliday')['Weekly_Sales'].mean()"
   ]
  },
  {
   "cell_type": "code",
   "execution_count": 73,
   "id": "5d3310c4",
   "metadata": {},
   "outputs": [
    {
     "name": "stdout",
     "output_type": "stream",
     "text": [
      "['Solarize_Light2', '_classic_test_patch', '_mpl-gallery', '_mpl-gallery-nogrid', 'bmh', 'classic', 'dark_background', 'fast', 'fivethirtyeight', 'ggplot', 'grayscale', 'petroff10', 'seaborn-v0_8', 'seaborn-v0_8-bright', 'seaborn-v0_8-colorblind', 'seaborn-v0_8-dark', 'seaborn-v0_8-dark-palette', 'seaborn-v0_8-darkgrid', 'seaborn-v0_8-deep', 'seaborn-v0_8-muted', 'seaborn-v0_8-notebook', 'seaborn-v0_8-paper', 'seaborn-v0_8-pastel', 'seaborn-v0_8-poster', 'seaborn-v0_8-talk', 'seaborn-v0_8-ticks', 'seaborn-v0_8-white', 'seaborn-v0_8-whitegrid', 'tableau-colorblind10']\n"
     ]
    },
    {
     "data": {
      "image/png": "[encoded data removed]",
      "text/plain": [
       "<Figure size 1280x640 with 1 Axes>"
      ]
     },
     "metadata": {},
     "output_type": "display_data"
    }
   ],
   "source": [
    "import matplotlib.pyplot as plt\n",
    "print(plt.style.available)\n",
    "\n",
    "plt.style.use('ggplot')\n",
    "labels = ['Thanksgiving', 'Super_Bowl', 'Labor_Day', 'Christmas']\n",
    "A_means = [27397.77, 20612.75, 20004.26, 18310.16]\n",
    "B_means = [18733.97, 12463.41, 12080.75, 11483.97]\n",
    "C_means = [9696.56,10179.27,9893.45,8031.52]\n",
    "\n",
    "x = np.arange(len(labels))  \n",
    "width = 0.3\n",
    "\n",
    "fig, ax = plt.subplots(figsize=(16, 8))\n",
    "rects1 = ax.bar(x - width, A_means, width, label='Type_A')\n",
    "rects2 = ax.bar(x , B_means, width, label='Type_B')\n",
    "rects3 = ax.bar(x + width, C_means, width, label='Type_C')\n",
    "\n",
    "\n",
    "ax.set_ylabel('Weekly Avg Sales')\n",
    "ax.set_xticks(x)\n",
    "ax.set_xticklabels(labels)\n",
    "ax.legend()\n",
    "\n",
    "\n",
    "def autolabel(rects):\n",
    "    \"\"\"Attach a text label above each bar in *rects*, displaying its height.\"\"\"\n",
    "    for rect in rects:\n",
    "        height = rect.get_height()\n",
    "        ax.annotate('{}'.format(height),\n",
    "                    xy=(rect.get_x() + rect.get_width() / 2, height),\n",
    "                    xytext=(0, 3),  \n",
    "                    textcoords=\"offset points\",\n",
    "                    ha='center', va='bottom')\n",
    "\n",
    "\n",
    "autolabel(rects1)\n",
    "autolabel(rects2)\n",
    "autolabel(rects3)\n",
    "\n",
    "plt.axhline(y=17094.30,color='r') # holidays avg\n",
    "plt.axhline(y=15952.82,color='green') # not-holiday avg\n",
    "\n",
    "fig.tight_layout()\n",
    "\n",
    "plt.show()"
   ]
  },
  {
   "cell_type": "markdown",
   "id": "6de4ea40",
   "metadata": {},
   "source": [
    "# Observation: \n",
    "Highest sale average is in the Thanksgiving week between holidays. \n",
    "2) All holidays Type A stores has highest sales. \n",
    "3) Min sale is at the time of christmas"
   ]
  },
  {
   "cell_type": "code",
   "execution_count": 74,
   "id": "fd4e3d03",
   "metadata": {},
   "outputs": [
    {
     "data": {
      "image/png": "[encoded data removed]",
      "text/plain": [
       "<Figure size 1280x640 with 1 Axes>"
      ]
     },
     "metadata": {},
     "output_type": "display_data"
    }
   ],
   "source": [
    "import matplotlib.pyplot as plt\n",
    "\n",
    "plt.style.use('ggplot')\n",
    "labels = ['Easter', 'Halloween', 'Independence Day', 'Back to School']\n",
    "A_means = [21761.74, 19209.40, 21176.74, 20474.46]\n",
    "B_means = [13183.96, 11715.08, 13010.16, 12242.97]\n",
    "C_means = [9693.98, 9215.86, 9576.5, 9667.61]\n",
    "\n",
    "x = np.arange(len(labels)) \n",
    "width = 0.3  \n",
    "\n",
    "fig, ax = plt.subplots(figsize=(16, 8))\n",
    "rects1 = ax.bar(x - width, A_means, width, label='Type_A')\n",
    "rects2 = ax.bar(x , B_means, width, label='Type_B')\n",
    "rects3 = ax.bar(x + width, C_means, width, label='Type_C')\n",
    "\n",
    "\n",
    "ax.set_ylabel('Weekly Avg Sales')\n",
    "ax.set_xticks(x)\n",
    "ax.set_xticklabels(labels)\n",
    "ax.legend()\n",
    "\n",
    "\n",
    "def autolabel(rects):\n",
    "    \"\"\"Attach a text label above each bar in *rects*, displaying its height.\"\"\"\n",
    "    for rect in rects:\n",
    "        height = rect.get_height()\n",
    "        ax.annotate('{}'.format(height),\n",
    "                    xy=(rect.get_x() + rect.get_width() / 2, height),\n",
    "                    xytext=(0, 3),  # 3 points vertical offset\n",
    "                    textcoords=\"offset points\",\n",
    "                    ha='center', va='bottom')\n",
    "\n",
    "\n",
    "autolabel(rects1)\n",
    "autolabel(rects2)\n",
    "autolabel(rects3)\n",
    "\n",
    "plt.axhline(y=17094.30,color='r') # holidays avg\n",
    "plt.axhline(y=15952.82,color='green') # not-holiday avg\n",
    "\n",
    "fig.tight_layout()\n",
    "\n",
    "plt.show()"
   ]
  },
  {
   "cell_type": "code",
   "execution_count": 66,
   "id": "4784c97a",
   "metadata": {},
   "outputs": [
    {
     "data": {
      "text/plain": [
       "month\n",
       "12    19425.798603\n",
       "11    17534.964277\n",
       "6     16397.605478\n",
       "8     16113.800069\n",
       "2     16048.701191\n",
       "7     15905.472425\n",
       "5     15845.556200\n",
       "4     15696.435193\n",
       "3     15464.817698\n",
       "10    15279.182119\n",
       "9     15147.216063\n",
       "1     14182.239153\n",
       "Name: Weekly_Sales, dtype: float64"
      ]
     },
     "execution_count": 66,
     "metadata": {},
     "output_type": "execute_result"
    }
   ],
   "source": [
    "dataset[\"Date\"] = pd.to_datetime(dataset[\"Date\"]) # convert to datetime\n",
    "dataset['week'] =dataset['Date'].dt.isocalendar().week\n",
    "dataset['month'] =dataset['Date'].dt.month \n",
    "dataset['year'] =dataset['Date'].dt.year\n",
    "\n",
    "dataset.groupby('month')['Weekly_Sales'].mean().sort_values(ascending=False)"
   ]
  },
  {
   "cell_type": "markdown",
   "id": "fe512385",
   "metadata": {},
   "source": [
    "November and December have the highest Sales"
   ]
  },
  {
   "cell_type": "code",
   "execution_count": 67,
   "id": "c3cf85fe",
   "metadata": {},
   "outputs": [
    {
     "data": {
      "text/plain": [
       "year\n",
       "2010    16318.648285\n",
       "2011    16007.797985\n",
       "2012    15748.265005\n",
       "Name: Weekly_Sales, dtype: float64"
      ]
     },
     "execution_count": 67,
     "metadata": {},
     "output_type": "execute_result"
    }
   ],
   "source": [
    "dataset.groupby('year')['Weekly_Sales'].mean()"
   ]
  },
  {
   "cell_type": "markdown",
   "id": "0f816fdf",
   "metadata": {},
   "source": [
    "Sales have reduced over the years"
   ]
  },
  {
   "cell_type": "code",
   "execution_count": 68,
   "id": "4b9450d1",
   "metadata": {},
   "outputs": [
    {
     "data": {
      "text/plain": [
       "week\n",
       "51    26454.164116\n",
       "47    22269.601768\n",
       "50    20478.421134\n",
       "49    18731.794840\n",
       "22    16856.650245\n",
       "Name: Weekly_Sales, dtype: float64"
      ]
     },
     "execution_count": 68,
     "metadata": {},
     "output_type": "execute_result"
    }
   ],
   "source": [
    "dataset.groupby('week')['Weekly_Sales'].mean().sort_values(ascending=False).head()"
   ]
  },
  {
   "cell_type": "markdown",
   "id": "d700c29b",
   "metadata": {},
   "source": [
    "Top 5 sales averages by weekly belongs to 1-2 weeks before Christmas, Thanksgiving, Black Friday and end of May, when the schools are closed."
   ]
  },
  {
   "cell_type": "markdown",
   "id": "d03eafd3",
   "metadata": {},
   "source": [
    "Now that we have weekly sales idea, let's see if other factors are signifcantly affecting them.. like Unemployment, CPI, Fuel Price, Temperature Effects, etc."
   ]
  },
  {
   "cell_type": "code",
   "execution_count": 69,
   "id": "96a713fc",
   "metadata": {},
   "outputs": [
    {
     "data": {
      "text/plain": [
       "<Axes: xlabel='Unemployment'>"
      ]
     },
     "execution_count": 69,
     "metadata": {},
     "output_type": "execute_result"
    },
    {
     "data": {
      "image/png": "[encoded data removed]",
      "text/plain": [
       "<Figure size 640x480 with 1 Axes>"
      ]
     },
     "metadata": {},
     "output_type": "display_data"
    }
   ],
   "source": [
    "unemployment = pd.pivot_table(dataset, values = \"Weekly_Sales\", index= \"Unemployment\")\n",
    "unemployment.plot()"
   ]
  },
  {
   "cell_type": "code",
   "execution_count": 70,
   "id": "644f349c",
   "metadata": {},
   "outputs": [
    {
     "data": {
      "text/plain": [
       "<Axes: xlabel='CPI'>"
      ]
     },
     "execution_count": 70,
     "metadata": {},
     "output_type": "execute_result"
    },
    {
     "data": {
      "image/png": "[encoded data removed]",
      "text/plain": [
       "<Figure size 640x480 with 1 Axes>"
      ]
     },
     "metadata": {},
     "output_type": "display_data"
    }
   ],
   "source": [
    "CPI = pd.pivot_table(dataset, values = \"Weekly_Sales\", index= \"CPI\")\n",
    "CPI.plot()"
   ]
  },
  {
   "cell_type": "code",
   "execution_count": 71,
   "id": "f73b5809",
   "metadata": {},
   "outputs": [
    {
     "data": {
      "text/plain": [
       "<Axes: xlabel='Fuel_Price'>"
      ]
     },
     "execution_count": 71,
     "metadata": {},
     "output_type": "execute_result"
    },
    {
     "data": {
      "image/png": "[encoded data removed]",
      "text/plain": [
       "<Figure size 640x480 with 1 Axes>"
      ]
     },
     "metadata": {},
     "output_type": "display_data"
    }
   ],
   "source": [
    "fuel_price = pd.pivot_table(dataset, values = \"Weekly_Sales\", index= \"Fuel_Price\")\n",
    "fuel_price.plot()"
   ]
  },
  {
   "cell_type": "code",
   "execution_count": 72,
   "id": "8b7d817d",
   "metadata": {},
   "outputs": [
    {
     "data": {
      "text/plain": [
       "<Axes: xlabel='Temperature'>"
      ]
     },
     "execution_count": 72,
     "metadata": {},
     "output_type": "execute_result"
    },
    {
     "data": {
      "image/png": "[encoded data removed]",
      "text/plain": [
       "<Figure size 640x480 with 1 Axes>"
      ]
     },
     "metadata": {},
     "output_type": "display_data"
    }
   ],
   "source": [
    "temp = pd.pivot_table(dataset, values = \"Weekly_Sales\", index= \"Temperature\")\n",
    "temp.plot()"
   ]
  }
 ],
 "metadata": {
  "kernelspec": {
   "display_name": "Python 3",
   "language": "python",
   "name": "python3"
  },
  "language_info": {
   "codemirror_mode": {
    "name": "ipython",
    "version": 3
   },
   "file_extension": ".py",
   "mimetype": "text/x-python",
   "name": "python",
   "nbconvert_exporter": "python",
   "pygments_lexer": "ipython3",
   "version": "3.13.2"
  }
 },
 "nbformat": 4,
 "nbformat_minor": 5
}
